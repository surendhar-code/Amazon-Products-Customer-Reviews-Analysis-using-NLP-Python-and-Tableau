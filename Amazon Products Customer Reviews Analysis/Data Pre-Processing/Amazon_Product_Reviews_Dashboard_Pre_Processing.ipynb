{
  "nbformat": 4,
  "nbformat_minor": 0,
  "metadata": {
    "colab": {
      "name": "Amazon Product Reviews Dashboard - Pre Processing.ipynb",
      "provenance": [],
      "toc_visible": true
    },
    "kernelspec": {
      "name": "python3",
      "display_name": "Python 3"
    },
    "language_info": {
      "name": "python"
    }
  },
  "cells": [
    {
      "cell_type": "code",
      "metadata": {
        "colab": {
          "base_uri": "https://localhost:8080/"
        },
        "id": "qbvLjEGPlUWv",
        "outputId": "4f6f1ed6-df2d-475c-c908-05847c95d6b0"
      },
      "source": [
        "from google.colab import drive\n",
        "drive.mount('/gdrive')\n",
        "%cd /gdrive"
      ],
      "execution_count": null,
      "outputs": [
        {
          "output_type": "stream",
          "text": [
            "Mounted at /gdrive\n",
            "/gdrive\n"
          ],
          "name": "stdout"
        }
      ]
    },
    {
      "cell_type": "code",
      "metadata": {
        "id": "EngGyb1kiO0q"
      },
      "source": [
        "import numpy as np\n",
        "import pandas as pd\n",
        "import matplotlib.pyplot as plt\n"
      ],
      "execution_count": null,
      "outputs": []
    },
    {
      "cell_type": "code",
      "metadata": {
        "colab": {
          "base_uri": "https://localhost:8080/",
          "height": 753
        },
        "id": "al11ae_-ixBo",
        "outputId": "279dddea-72be-412c-a5cc-fef59e0a0e70"
      },
      "source": [
        "data_1 = pd.read_csv(\"/gdrive/MyDrive/Amazon Product Reviews Dashboard/1429_1.csv\")\n",
        "data_1.head()"
      ],
      "execution_count": null,
      "outputs": [
        {
          "output_type": "stream",
          "text": [
            "/usr/local/lib/python3.7/dist-packages/IPython/core/interactiveshell.py:2718: DtypeWarning: Columns (1,10) have mixed types.Specify dtype option on import or set low_memory=False.\n",
            "  interactivity=interactivity, compiler=compiler, result=result)\n"
          ],
          "name": "stderr"
        },
        {
          "output_type": "execute_result",
          "data": {
            "text/html": [
              "<div>\n",
              "<style scoped>\n",
              "    .dataframe tbody tr th:only-of-type {\n",
              "        vertical-align: middle;\n",
              "    }\n",
              "\n",
              "    .dataframe tbody tr th {\n",
              "        vertical-align: top;\n",
              "    }\n",
              "\n",
              "    .dataframe thead th {\n",
              "        text-align: right;\n",
              "    }\n",
              "</style>\n",
              "<table border=\"1\" class=\"dataframe\">\n",
              "  <thead>\n",
              "    <tr style=\"text-align: right;\">\n",
              "      <th></th>\n",
              "      <th>id</th>\n",
              "      <th>name</th>\n",
              "      <th>asins</th>\n",
              "      <th>brand</th>\n",
              "      <th>categories</th>\n",
              "      <th>keys</th>\n",
              "      <th>manufacturer</th>\n",
              "      <th>reviews.date</th>\n",
              "      <th>reviews.dateAdded</th>\n",
              "      <th>reviews.dateSeen</th>\n",
              "      <th>reviews.didPurchase</th>\n",
              "      <th>reviews.doRecommend</th>\n",
              "      <th>reviews.id</th>\n",
              "      <th>reviews.numHelpful</th>\n",
              "      <th>reviews.rating</th>\n",
              "      <th>reviews.sourceURLs</th>\n",
              "      <th>reviews.text</th>\n",
              "      <th>reviews.title</th>\n",
              "      <th>reviews.userCity</th>\n",
              "      <th>reviews.userProvince</th>\n",
              "      <th>reviews.username</th>\n",
              "    </tr>\n",
              "  </thead>\n",
              "  <tbody>\n",
              "    <tr>\n",
              "      <th>0</th>\n",
              "      <td>AVqkIhwDv8e3D1O-lebb</td>\n",
              "      <td>All-New Fire HD 8 Tablet, 8 HD Display, Wi-Fi,...</td>\n",
              "      <td>B01AHB9CN2</td>\n",
              "      <td>Amazon</td>\n",
              "      <td>Electronics,iPad &amp; Tablets,All Tablets,Fire Ta...</td>\n",
              "      <td>841667104676,amazon/53004484,amazon/b01ahb9cn2...</td>\n",
              "      <td>Amazon</td>\n",
              "      <td>2017-01-13T00:00:00.000Z</td>\n",
              "      <td>2017-07-03T23:33:15Z</td>\n",
              "      <td>2017-06-07T09:04:00.000Z,2017-04-30T00:45:00.000Z</td>\n",
              "      <td>NaN</td>\n",
              "      <td>True</td>\n",
              "      <td>NaN</td>\n",
              "      <td>0.0</td>\n",
              "      <td>5.0</td>\n",
              "      <td>http://reviews.bestbuy.com/3545/5620406/review...</td>\n",
              "      <td>This product so far has not disappointed. My c...</td>\n",
              "      <td>Kindle</td>\n",
              "      <td>NaN</td>\n",
              "      <td>NaN</td>\n",
              "      <td>Adapter</td>\n",
              "    </tr>\n",
              "    <tr>\n",
              "      <th>1</th>\n",
              "      <td>AVqkIhwDv8e3D1O-lebb</td>\n",
              "      <td>All-New Fire HD 8 Tablet, 8 HD Display, Wi-Fi,...</td>\n",
              "      <td>B01AHB9CN2</td>\n",
              "      <td>Amazon</td>\n",
              "      <td>Electronics,iPad &amp; Tablets,All Tablets,Fire Ta...</td>\n",
              "      <td>841667104676,amazon/53004484,amazon/b01ahb9cn2...</td>\n",
              "      <td>Amazon</td>\n",
              "      <td>2017-01-13T00:00:00.000Z</td>\n",
              "      <td>2017-07-03T23:33:15Z</td>\n",
              "      <td>2017-06-07T09:04:00.000Z,2017-04-30T00:45:00.000Z</td>\n",
              "      <td>NaN</td>\n",
              "      <td>True</td>\n",
              "      <td>NaN</td>\n",
              "      <td>0.0</td>\n",
              "      <td>5.0</td>\n",
              "      <td>http://reviews.bestbuy.com/3545/5620406/review...</td>\n",
              "      <td>great for beginner or experienced person. Boug...</td>\n",
              "      <td>very fast</td>\n",
              "      <td>NaN</td>\n",
              "      <td>NaN</td>\n",
              "      <td>truman</td>\n",
              "    </tr>\n",
              "    <tr>\n",
              "      <th>2</th>\n",
              "      <td>AVqkIhwDv8e3D1O-lebb</td>\n",
              "      <td>All-New Fire HD 8 Tablet, 8 HD Display, Wi-Fi,...</td>\n",
              "      <td>B01AHB9CN2</td>\n",
              "      <td>Amazon</td>\n",
              "      <td>Electronics,iPad &amp; Tablets,All Tablets,Fire Ta...</td>\n",
              "      <td>841667104676,amazon/53004484,amazon/b01ahb9cn2...</td>\n",
              "      <td>Amazon</td>\n",
              "      <td>2017-01-13T00:00:00.000Z</td>\n",
              "      <td>2017-07-03T23:33:15Z</td>\n",
              "      <td>2017-06-07T09:04:00.000Z,2017-04-30T00:45:00.000Z</td>\n",
              "      <td>NaN</td>\n",
              "      <td>True</td>\n",
              "      <td>NaN</td>\n",
              "      <td>0.0</td>\n",
              "      <td>5.0</td>\n",
              "      <td>http://reviews.bestbuy.com/3545/5620406/review...</td>\n",
              "      <td>Inexpensive tablet for him to use and learn on...</td>\n",
              "      <td>Beginner tablet for our 9 year old son.</td>\n",
              "      <td>NaN</td>\n",
              "      <td>NaN</td>\n",
              "      <td>DaveZ</td>\n",
              "    </tr>\n",
              "    <tr>\n",
              "      <th>3</th>\n",
              "      <td>AVqkIhwDv8e3D1O-lebb</td>\n",
              "      <td>All-New Fire HD 8 Tablet, 8 HD Display, Wi-Fi,...</td>\n",
              "      <td>B01AHB9CN2</td>\n",
              "      <td>Amazon</td>\n",
              "      <td>Electronics,iPad &amp; Tablets,All Tablets,Fire Ta...</td>\n",
              "      <td>841667104676,amazon/53004484,amazon/b01ahb9cn2...</td>\n",
              "      <td>Amazon</td>\n",
              "      <td>2017-01-13T00:00:00.000Z</td>\n",
              "      <td>2017-07-03T23:33:15Z</td>\n",
              "      <td>2017-06-07T09:04:00.000Z,2017-04-30T00:45:00.000Z</td>\n",
              "      <td>NaN</td>\n",
              "      <td>True</td>\n",
              "      <td>NaN</td>\n",
              "      <td>0.0</td>\n",
              "      <td>4.0</td>\n",
              "      <td>http://reviews.bestbuy.com/3545/5620406/review...</td>\n",
              "      <td>I've had my Fire HD 8 two weeks now and I love...</td>\n",
              "      <td>Good!!!</td>\n",
              "      <td>NaN</td>\n",
              "      <td>NaN</td>\n",
              "      <td>Shacks</td>\n",
              "    </tr>\n",
              "    <tr>\n",
              "      <th>4</th>\n",
              "      <td>AVqkIhwDv8e3D1O-lebb</td>\n",
              "      <td>All-New Fire HD 8 Tablet, 8 HD Display, Wi-Fi,...</td>\n",
              "      <td>B01AHB9CN2</td>\n",
              "      <td>Amazon</td>\n",
              "      <td>Electronics,iPad &amp; Tablets,All Tablets,Fire Ta...</td>\n",
              "      <td>841667104676,amazon/53004484,amazon/b01ahb9cn2...</td>\n",
              "      <td>Amazon</td>\n",
              "      <td>2017-01-12T00:00:00.000Z</td>\n",
              "      <td>2017-07-03T23:33:15Z</td>\n",
              "      <td>2017-06-07T09:04:00.000Z,2017-04-30T00:45:00.000Z</td>\n",
              "      <td>NaN</td>\n",
              "      <td>True</td>\n",
              "      <td>NaN</td>\n",
              "      <td>0.0</td>\n",
              "      <td>5.0</td>\n",
              "      <td>http://reviews.bestbuy.com/3545/5620406/review...</td>\n",
              "      <td>I bought this for my grand daughter when she c...</td>\n",
              "      <td>Fantastic Tablet for kids</td>\n",
              "      <td>NaN</td>\n",
              "      <td>NaN</td>\n",
              "      <td>explore42</td>\n",
              "    </tr>\n",
              "  </tbody>\n",
              "</table>\n",
              "</div>"
            ],
            "text/plain": [
              "                     id  ... reviews.username\n",
              "0  AVqkIhwDv8e3D1O-lebb  ...          Adapter\n",
              "1  AVqkIhwDv8e3D1O-lebb  ...           truman\n",
              "2  AVqkIhwDv8e3D1O-lebb  ...            DaveZ\n",
              "3  AVqkIhwDv8e3D1O-lebb  ...           Shacks\n",
              "4  AVqkIhwDv8e3D1O-lebb  ...        explore42\n",
              "\n",
              "[5 rows x 21 columns]"
            ]
          },
          "metadata": {
            "tags": []
          },
          "execution_count": 3
        }
      ]
    },
    {
      "cell_type": "code",
      "metadata": {
        "colab": {
          "base_uri": "https://localhost:8080/"
        },
        "id": "VTGyvAsQmVGp",
        "outputId": "8865f7a3-ca49-436f-9466-2b52298352ba"
      },
      "source": [
        "data_1.columns"
      ],
      "execution_count": null,
      "outputs": [
        {
          "output_type": "execute_result",
          "data": {
            "text/plain": [
              "Index(['id', 'name', 'asins', 'brand', 'categories', 'keys', 'manufacturer',\n",
              "       'reviews.date', 'reviews.dateAdded', 'reviews.dateSeen',\n",
              "       'reviews.didPurchase', 'reviews.doRecommend', 'reviews.id',\n",
              "       'reviews.numHelpful', 'reviews.rating', 'reviews.sourceURLs',\n",
              "       'reviews.text', 'reviews.title', 'reviews.userCity',\n",
              "       'reviews.userProvince', 'reviews.username'],\n",
              "      dtype='object')"
            ]
          },
          "metadata": {
            "tags": []
          },
          "execution_count": 6
        }
      ]
    },
    {
      "cell_type": "code",
      "metadata": {
        "colab": {
          "base_uri": "https://localhost:8080/"
        },
        "id": "EPPQaPbUpzcl",
        "outputId": "a50e570e-c966-48fc-c50a-ba51f3707ff6"
      },
      "source": [
        "data_1.info()"
      ],
      "execution_count": null,
      "outputs": [
        {
          "output_type": "stream",
          "text": [
            "<class 'pandas.core.frame.DataFrame'>\n",
            "RangeIndex: 34660 entries, 0 to 34659\n",
            "Data columns (total 21 columns):\n",
            " #   Column                Non-Null Count  Dtype  \n",
            "---  ------                --------------  -----  \n",
            " 0   id                    34660 non-null  object \n",
            " 1   name                  27900 non-null  object \n",
            " 2   asins                 34658 non-null  object \n",
            " 3   brand                 34660 non-null  object \n",
            " 4   categories            34660 non-null  object \n",
            " 5   keys                  34660 non-null  object \n",
            " 6   manufacturer          34660 non-null  object \n",
            " 7   reviews.date          34621 non-null  object \n",
            " 8   reviews.dateAdded     24039 non-null  object \n",
            " 9   reviews.dateSeen      34660 non-null  object \n",
            " 10  reviews.didPurchase   1 non-null      object \n",
            " 11  reviews.doRecommend   34066 non-null  object \n",
            " 12  reviews.id            1 non-null      float64\n",
            " 13  reviews.numHelpful    34131 non-null  float64\n",
            " 14  reviews.rating        34627 non-null  float64\n",
            " 15  reviews.sourceURLs    34660 non-null  object \n",
            " 16  reviews.text          34659 non-null  object \n",
            " 17  reviews.title         34655 non-null  object \n",
            " 18  reviews.userCity      0 non-null      float64\n",
            " 19  reviews.userProvince  0 non-null      float64\n",
            " 20  reviews.username      34658 non-null  object \n",
            "dtypes: float64(5), object(16)\n",
            "memory usage: 5.6+ MB\n"
          ],
          "name": "stdout"
        }
      ]
    },
    {
      "cell_type": "code",
      "metadata": {
        "colab": {
          "base_uri": "https://localhost:8080/",
          "height": 551
        },
        "id": "63jkGPhVlwC1",
        "outputId": "d4d54f04-811f-4227-fe56-7c944b0a2606"
      },
      "source": [
        "data_2 = pd.read_csv(\"/gdrive/MyDrive/Amazon Product Reviews Dashboard/Datafiniti_Amazon_Consumer_Reviews_of_Amazon_Products.csv\")\n",
        "data_2.head()"
      ],
      "execution_count": null,
      "outputs": [
        {
          "output_type": "execute_result",
          "data": {
            "text/html": [
              "<div>\n",
              "<style scoped>\n",
              "    .dataframe tbody tr th:only-of-type {\n",
              "        vertical-align: middle;\n",
              "    }\n",
              "\n",
              "    .dataframe tbody tr th {\n",
              "        vertical-align: top;\n",
              "    }\n",
              "\n",
              "    .dataframe thead th {\n",
              "        text-align: right;\n",
              "    }\n",
              "</style>\n",
              "<table border=\"1\" class=\"dataframe\">\n",
              "  <thead>\n",
              "    <tr style=\"text-align: right;\">\n",
              "      <th></th>\n",
              "      <th>id</th>\n",
              "      <th>dateAdded</th>\n",
              "      <th>dateUpdated</th>\n",
              "      <th>name</th>\n",
              "      <th>asins</th>\n",
              "      <th>brand</th>\n",
              "      <th>categories</th>\n",
              "      <th>primaryCategories</th>\n",
              "      <th>imageURLs</th>\n",
              "      <th>keys</th>\n",
              "      <th>manufacturer</th>\n",
              "      <th>manufacturerNumber</th>\n",
              "      <th>reviews.date</th>\n",
              "      <th>reviews.dateAdded</th>\n",
              "      <th>reviews.dateSeen</th>\n",
              "      <th>reviews.doRecommend</th>\n",
              "      <th>reviews.id</th>\n",
              "      <th>reviews.numHelpful</th>\n",
              "      <th>reviews.rating</th>\n",
              "      <th>reviews.sourceURLs</th>\n",
              "      <th>reviews.text</th>\n",
              "      <th>reviews.title</th>\n",
              "      <th>reviews.username</th>\n",
              "      <th>sourceURLs</th>\n",
              "    </tr>\n",
              "  </thead>\n",
              "  <tbody>\n",
              "    <tr>\n",
              "      <th>0</th>\n",
              "      <td>AVqVGZNvQMlgsOJE6eUY</td>\n",
              "      <td>2017-03-03T16:56:05Z</td>\n",
              "      <td>2018-10-25T16:36:31Z</td>\n",
              "      <td>Amazon Kindle E-Reader 6\" Wifi (8th Generation...</td>\n",
              "      <td>B00ZV9PXP2</td>\n",
              "      <td>Amazon</td>\n",
              "      <td>Computers,Electronics Features,Tablets,Electro...</td>\n",
              "      <td>Electronics</td>\n",
              "      <td>https://pisces.bbystatic.com/image2/BestBuy_US...</td>\n",
              "      <td>allnewkindleereaderblack6glarefreetouchscreend...</td>\n",
              "      <td>Amazon</td>\n",
              "      <td>B00ZV9PXP2</td>\n",
              "      <td>2017-09-03T00:00:00.000Z</td>\n",
              "      <td>NaN</td>\n",
              "      <td>2018-05-27T00:00:00Z,2017-09-18T00:00:00Z,2017...</td>\n",
              "      <td>False</td>\n",
              "      <td>NaN</td>\n",
              "      <td>0</td>\n",
              "      <td>3</td>\n",
              "      <td>http://reviews.bestbuy.com/3545/5442403/review...</td>\n",
              "      <td>I thought it would be as big as small paper bu...</td>\n",
              "      <td>Too small</td>\n",
              "      <td>llyyue</td>\n",
              "      <td>https://www.newegg.com/Product/Product.aspx%25...</td>\n",
              "    </tr>\n",
              "    <tr>\n",
              "      <th>1</th>\n",
              "      <td>AVqVGZNvQMlgsOJE6eUY</td>\n",
              "      <td>2017-03-03T16:56:05Z</td>\n",
              "      <td>2018-10-25T16:36:31Z</td>\n",
              "      <td>Amazon Kindle E-Reader 6\" Wifi (8th Generation...</td>\n",
              "      <td>B00ZV9PXP2</td>\n",
              "      <td>Amazon</td>\n",
              "      <td>Computers,Electronics Features,Tablets,Electro...</td>\n",
              "      <td>Electronics</td>\n",
              "      <td>https://pisces.bbystatic.com/image2/BestBuy_US...</td>\n",
              "      <td>allnewkindleereaderblack6glarefreetouchscreend...</td>\n",
              "      <td>Amazon</td>\n",
              "      <td>B00ZV9PXP2</td>\n",
              "      <td>2017-06-06T00:00:00.000Z</td>\n",
              "      <td>NaN</td>\n",
              "      <td>2018-05-27T00:00:00Z,2017-07-07T00:00:00Z,2017...</td>\n",
              "      <td>True</td>\n",
              "      <td>NaN</td>\n",
              "      <td>0</td>\n",
              "      <td>5</td>\n",
              "      <td>http://reviews.bestbuy.com/3545/5442403/review...</td>\n",
              "      <td>This kindle is light and easy to use especiall...</td>\n",
              "      <td>Great light reader. Easy to use at the beach</td>\n",
              "      <td>Charmi</td>\n",
              "      <td>https://www.newegg.com/Product/Product.aspx%25...</td>\n",
              "    </tr>\n",
              "    <tr>\n",
              "      <th>2</th>\n",
              "      <td>AVqVGZNvQMlgsOJE6eUY</td>\n",
              "      <td>2017-03-03T16:56:05Z</td>\n",
              "      <td>2018-10-25T16:36:31Z</td>\n",
              "      <td>Amazon Kindle E-Reader 6\" Wifi (8th Generation...</td>\n",
              "      <td>B00ZV9PXP2</td>\n",
              "      <td>Amazon</td>\n",
              "      <td>Computers,Electronics Features,Tablets,Electro...</td>\n",
              "      <td>Electronics</td>\n",
              "      <td>https://pisces.bbystatic.com/image2/BestBuy_US...</td>\n",
              "      <td>allnewkindleereaderblack6glarefreetouchscreend...</td>\n",
              "      <td>Amazon</td>\n",
              "      <td>B00ZV9PXP2</td>\n",
              "      <td>2018-04-20T00:00:00.000Z</td>\n",
              "      <td>NaN</td>\n",
              "      <td>2018-05-27T00:00:00Z</td>\n",
              "      <td>True</td>\n",
              "      <td>NaN</td>\n",
              "      <td>0</td>\n",
              "      <td>4</td>\n",
              "      <td>https://reviews.bestbuy.com/3545/5442403/revie...</td>\n",
              "      <td>Didnt know how much i'd use a kindle so went f...</td>\n",
              "      <td>Great for the price</td>\n",
              "      <td>johnnyjojojo</td>\n",
              "      <td>https://www.newegg.com/Product/Product.aspx%25...</td>\n",
              "    </tr>\n",
              "    <tr>\n",
              "      <th>3</th>\n",
              "      <td>AVqVGZNvQMlgsOJE6eUY</td>\n",
              "      <td>2017-03-03T16:56:05Z</td>\n",
              "      <td>2018-10-25T16:36:31Z</td>\n",
              "      <td>Amazon Kindle E-Reader 6\" Wifi (8th Generation...</td>\n",
              "      <td>B00ZV9PXP2</td>\n",
              "      <td>Amazon</td>\n",
              "      <td>Computers,Electronics Features,Tablets,Electro...</td>\n",
              "      <td>Electronics</td>\n",
              "      <td>https://pisces.bbystatic.com/image2/BestBuy_US...</td>\n",
              "      <td>allnewkindleereaderblack6glarefreetouchscreend...</td>\n",
              "      <td>Amazon</td>\n",
              "      <td>B00ZV9PXP2</td>\n",
              "      <td>2017-11-02T17:33:31.000Z</td>\n",
              "      <td>NaN</td>\n",
              "      <td>2018-10-09T00:00:00Z</td>\n",
              "      <td>True</td>\n",
              "      <td>177283626.0</td>\n",
              "      <td>3</td>\n",
              "      <td>5</td>\n",
              "      <td>https://redsky.target.com/groot-domain-api/v1/...</td>\n",
              "      <td>I am 100 happy with my purchase. I caught it o...</td>\n",
              "      <td>A Great Buy</td>\n",
              "      <td>Kdperry</td>\n",
              "      <td>https://www.newegg.com/Product/Product.aspx%25...</td>\n",
              "    </tr>\n",
              "    <tr>\n",
              "      <th>4</th>\n",
              "      <td>AVqVGZNvQMlgsOJE6eUY</td>\n",
              "      <td>2017-03-03T16:56:05Z</td>\n",
              "      <td>2018-10-25T16:36:31Z</td>\n",
              "      <td>Amazon Kindle E-Reader 6\" Wifi (8th Generation...</td>\n",
              "      <td>B00ZV9PXP2</td>\n",
              "      <td>Amazon</td>\n",
              "      <td>Computers,Electronics Features,Tablets,Electro...</td>\n",
              "      <td>Electronics</td>\n",
              "      <td>https://pisces.bbystatic.com/image2/BestBuy_US...</td>\n",
              "      <td>allnewkindleereaderblack6glarefreetouchscreend...</td>\n",
              "      <td>Amazon</td>\n",
              "      <td>B00ZV9PXP2</td>\n",
              "      <td>2018-04-24T00:00:00.000Z</td>\n",
              "      <td>NaN</td>\n",
              "      <td>2018-05-27T00:00:00Z</td>\n",
              "      <td>True</td>\n",
              "      <td>NaN</td>\n",
              "      <td>0</td>\n",
              "      <td>5</td>\n",
              "      <td>https://reviews.bestbuy.com/3545/5442403/revie...</td>\n",
              "      <td>Solid entry level Kindle. Great for kids. Gift...</td>\n",
              "      <td>Solid entry-level Kindle. Great for kids</td>\n",
              "      <td>Johnnyblack</td>\n",
              "      <td>https://www.newegg.com/Product/Product.aspx%25...</td>\n",
              "    </tr>\n",
              "  </tbody>\n",
              "</table>\n",
              "</div>"
            ],
            "text/plain": [
              "                     id  ...                                         sourceURLs\n",
              "0  AVqVGZNvQMlgsOJE6eUY  ...  https://www.newegg.com/Product/Product.aspx%25...\n",
              "1  AVqVGZNvQMlgsOJE6eUY  ...  https://www.newegg.com/Product/Product.aspx%25...\n",
              "2  AVqVGZNvQMlgsOJE6eUY  ...  https://www.newegg.com/Product/Product.aspx%25...\n",
              "3  AVqVGZNvQMlgsOJE6eUY  ...  https://www.newegg.com/Product/Product.aspx%25...\n",
              "4  AVqVGZNvQMlgsOJE6eUY  ...  https://www.newegg.com/Product/Product.aspx%25...\n",
              "\n",
              "[5 rows x 24 columns]"
            ]
          },
          "metadata": {
            "tags": []
          },
          "execution_count": 4
        }
      ]
    },
    {
      "cell_type": "code",
      "metadata": {
        "colab": {
          "base_uri": "https://localhost:8080/"
        },
        "id": "nu2UyYXvqbIj",
        "outputId": "f27d359c-effc-40c6-b25f-496e909b0acc"
      },
      "source": [
        "data_2.columns"
      ],
      "execution_count": null,
      "outputs": [
        {
          "output_type": "execute_result",
          "data": {
            "text/plain": [
              "Index(['id', 'dateAdded', 'dateUpdated', 'name', 'asins', 'brand',\n",
              "       'categories', 'primaryCategories', 'imageURLs', 'keys', 'manufacturer',\n",
              "       'manufacturerNumber', 'reviews.date', 'reviews.dateAdded',\n",
              "       'reviews.dateSeen', 'reviews.doRecommend', 'reviews.id',\n",
              "       'reviews.numHelpful', 'reviews.rating', 'reviews.sourceURLs',\n",
              "       'reviews.text', 'reviews.title', 'reviews.username', 'sourceURLs'],\n",
              "      dtype='object')"
            ]
          },
          "metadata": {
            "tags": []
          },
          "execution_count": 12
        }
      ]
    },
    {
      "cell_type": "code",
      "metadata": {
        "colab": {
          "base_uri": "https://localhost:8080/"
        },
        "id": "3xNZA7GoqbcH",
        "outputId": "a3d94716-f5a4-4828-c827-c23b32aa875a"
      },
      "source": [
        "data_2.info()"
      ],
      "execution_count": null,
      "outputs": [
        {
          "output_type": "stream",
          "text": [
            "<class 'pandas.core.frame.DataFrame'>\n",
            "RangeIndex: 5000 entries, 0 to 4999\n",
            "Data columns (total 24 columns):\n",
            " #   Column               Non-Null Count  Dtype  \n",
            "---  ------               --------------  -----  \n",
            " 0   id                   5000 non-null   object \n",
            " 1   dateAdded            5000 non-null   object \n",
            " 2   dateUpdated          5000 non-null   object \n",
            " 3   name                 5000 non-null   object \n",
            " 4   asins                5000 non-null   object \n",
            " 5   brand                5000 non-null   object \n",
            " 6   categories           5000 non-null   object \n",
            " 7   primaryCategories    5000 non-null   object \n",
            " 8   imageURLs            5000 non-null   object \n",
            " 9   keys                 5000 non-null   object \n",
            " 10  manufacturer         5000 non-null   object \n",
            " 11  manufacturerNumber   5000 non-null   object \n",
            " 12  reviews.date         5000 non-null   object \n",
            " 13  reviews.dateAdded    1052 non-null   object \n",
            " 14  reviews.dateSeen     5000 non-null   object \n",
            " 15  reviews.doRecommend  5000 non-null   bool   \n",
            " 16  reviews.id           29 non-null     float64\n",
            " 17  reviews.numHelpful   5000 non-null   int64  \n",
            " 18  reviews.rating       5000 non-null   int64  \n",
            " 19  reviews.sourceURLs   5000 non-null   object \n",
            " 20  reviews.text         5000 non-null   object \n",
            " 21  reviews.title        4987 non-null   object \n",
            " 22  reviews.username     5000 non-null   object \n",
            " 23  sourceURLs           5000 non-null   object \n",
            "dtypes: bool(1), float64(1), int64(2), object(20)\n",
            "memory usage: 903.4+ KB\n"
          ],
          "name": "stdout"
        }
      ]
    },
    {
      "cell_type": "code",
      "metadata": {
        "colab": {
          "base_uri": "https://localhost:8080/",
          "height": 551
        },
        "id": "In6anTIal8FF",
        "outputId": "94c42f79-0ada-44df-a07d-645ec41b9b80"
      },
      "source": [
        "data_3 = pd.read_csv(\"/gdrive/MyDrive/Amazon Product Reviews Dashboard/Datafiniti_Amazon_Consumer_Reviews_of_Amazon_Products_May19.csv\")\n",
        "data_3.head()"
      ],
      "execution_count": null,
      "outputs": [
        {
          "output_type": "execute_result",
          "data": {
            "text/html": [
              "<div>\n",
              "<style scoped>\n",
              "    .dataframe tbody tr th:only-of-type {\n",
              "        vertical-align: middle;\n",
              "    }\n",
              "\n",
              "    .dataframe tbody tr th {\n",
              "        vertical-align: top;\n",
              "    }\n",
              "\n",
              "    .dataframe thead th {\n",
              "        text-align: right;\n",
              "    }\n",
              "</style>\n",
              "<table border=\"1\" class=\"dataframe\">\n",
              "  <thead>\n",
              "    <tr style=\"text-align: right;\">\n",
              "      <th></th>\n",
              "      <th>id</th>\n",
              "      <th>dateAdded</th>\n",
              "      <th>dateUpdated</th>\n",
              "      <th>name</th>\n",
              "      <th>asins</th>\n",
              "      <th>brand</th>\n",
              "      <th>categories</th>\n",
              "      <th>primaryCategories</th>\n",
              "      <th>imageURLs</th>\n",
              "      <th>keys</th>\n",
              "      <th>manufacturer</th>\n",
              "      <th>manufacturerNumber</th>\n",
              "      <th>reviews.date</th>\n",
              "      <th>reviews.dateSeen</th>\n",
              "      <th>reviews.didPurchase</th>\n",
              "      <th>reviews.doRecommend</th>\n",
              "      <th>reviews.id</th>\n",
              "      <th>reviews.numHelpful</th>\n",
              "      <th>reviews.rating</th>\n",
              "      <th>reviews.sourceURLs</th>\n",
              "      <th>reviews.text</th>\n",
              "      <th>reviews.title</th>\n",
              "      <th>reviews.username</th>\n",
              "      <th>sourceURLs</th>\n",
              "    </tr>\n",
              "  </thead>\n",
              "  <tbody>\n",
              "    <tr>\n",
              "      <th>0</th>\n",
              "      <td>AVpgNzjwLJeJML43Kpxn</td>\n",
              "      <td>2015-10-30T08:59:32Z</td>\n",
              "      <td>2019-04-25T09:08:16Z</td>\n",
              "      <td>AmazonBasics AAA Performance Alkaline Batterie...</td>\n",
              "      <td>B00QWO9P0O,B00LH3DMUO</td>\n",
              "      <td>Amazonbasics</td>\n",
              "      <td>AA,AAA,Health,Electronics,Health &amp; Household,C...</td>\n",
              "      <td>Health &amp; Beauty</td>\n",
              "      <td>https://images-na.ssl-images-amazon.com/images...</td>\n",
              "      <td>amazonbasics/hl002619,amazonbasicsaaaperforman...</td>\n",
              "      <td>AmazonBasics</td>\n",
              "      <td>HL-002619</td>\n",
              "      <td>2017-03-02T00:00:00.000Z</td>\n",
              "      <td>2017-08-28T00:00:00Z</td>\n",
              "      <td>NaN</td>\n",
              "      <td>NaN</td>\n",
              "      <td>NaN</td>\n",
              "      <td>NaN</td>\n",
              "      <td>3</td>\n",
              "      <td>https://www.amazon.com/product-reviews/B00QWO9...</td>\n",
              "      <td>I order 3 of them and one of the item is bad q...</td>\n",
              "      <td>... 3 of them and one of the item is bad quali...</td>\n",
              "      <td>Byger yang</td>\n",
              "      <td>https://www.barcodable.com/upc/841710106442,ht...</td>\n",
              "    </tr>\n",
              "    <tr>\n",
              "      <th>1</th>\n",
              "      <td>AVpgNzjwLJeJML43Kpxn</td>\n",
              "      <td>2015-10-30T08:59:32Z</td>\n",
              "      <td>2019-04-25T09:08:16Z</td>\n",
              "      <td>AmazonBasics AAA Performance Alkaline Batterie...</td>\n",
              "      <td>B00QWO9P0O,B00LH3DMUO</td>\n",
              "      <td>Amazonbasics</td>\n",
              "      <td>AA,AAA,Health,Electronics,Health &amp; Household,C...</td>\n",
              "      <td>Health &amp; Beauty</td>\n",
              "      <td>https://images-na.ssl-images-amazon.com/images...</td>\n",
              "      <td>amazonbasics/hl002619,amazonbasicsaaaperforman...</td>\n",
              "      <td>AmazonBasics</td>\n",
              "      <td>HL-002619</td>\n",
              "      <td>2016-08-31T00:00:00.000Z</td>\n",
              "      <td>2017-08-28T00:00:00Z</td>\n",
              "      <td>NaN</td>\n",
              "      <td>NaN</td>\n",
              "      <td>NaN</td>\n",
              "      <td>NaN</td>\n",
              "      <td>4</td>\n",
              "      <td>https://www.amazon.com/product-reviews/B00QWO9...</td>\n",
              "      <td>Bulk is always the less expensive way to go fo...</td>\n",
              "      <td>... always the less expensive way to go for pr...</td>\n",
              "      <td>ByMG</td>\n",
              "      <td>https://www.barcodable.com/upc/841710106442,ht...</td>\n",
              "    </tr>\n",
              "    <tr>\n",
              "      <th>2</th>\n",
              "      <td>AVpgNzjwLJeJML43Kpxn</td>\n",
              "      <td>2015-10-30T08:59:32Z</td>\n",
              "      <td>2019-04-25T09:08:16Z</td>\n",
              "      <td>AmazonBasics AAA Performance Alkaline Batterie...</td>\n",
              "      <td>B00QWO9P0O,B00LH3DMUO</td>\n",
              "      <td>Amazonbasics</td>\n",
              "      <td>AA,AAA,Health,Electronics,Health &amp; Household,C...</td>\n",
              "      <td>Health &amp; Beauty</td>\n",
              "      <td>https://images-na.ssl-images-amazon.com/images...</td>\n",
              "      <td>amazonbasics/hl002619,amazonbasicsaaaperforman...</td>\n",
              "      <td>AmazonBasics</td>\n",
              "      <td>HL-002619</td>\n",
              "      <td>2016-12-06T00:00:00.000Z</td>\n",
              "      <td>2017-08-28T00:00:00Z</td>\n",
              "      <td>NaN</td>\n",
              "      <td>NaN</td>\n",
              "      <td>NaN</td>\n",
              "      <td>NaN</td>\n",
              "      <td>5</td>\n",
              "      <td>https://www.amazon.com/product-reviews/B00QWO9...</td>\n",
              "      <td>Well they are not Duracell but for the price i...</td>\n",
              "      <td>... are not Duracell but for the price i am ha...</td>\n",
              "      <td>BySharon Lambert</td>\n",
              "      <td>https://www.barcodable.com/upc/841710106442,ht...</td>\n",
              "    </tr>\n",
              "    <tr>\n",
              "      <th>3</th>\n",
              "      <td>AVpgNzjwLJeJML43Kpxn</td>\n",
              "      <td>2015-10-30T08:59:32Z</td>\n",
              "      <td>2019-04-25T09:08:16Z</td>\n",
              "      <td>AmazonBasics AAA Performance Alkaline Batterie...</td>\n",
              "      <td>B00QWO9P0O,B00LH3DMUO</td>\n",
              "      <td>Amazonbasics</td>\n",
              "      <td>AA,AAA,Health,Electronics,Health &amp; Household,C...</td>\n",
              "      <td>Health &amp; Beauty</td>\n",
              "      <td>https://images-na.ssl-images-amazon.com/images...</td>\n",
              "      <td>amazonbasics/hl002619,amazonbasicsaaaperforman...</td>\n",
              "      <td>AmazonBasics</td>\n",
              "      <td>HL-002619</td>\n",
              "      <td>2016-03-28T00:00:00.000Z</td>\n",
              "      <td>2017-08-28T00:00:00Z</td>\n",
              "      <td>NaN</td>\n",
              "      <td>NaN</td>\n",
              "      <td>NaN</td>\n",
              "      <td>NaN</td>\n",
              "      <td>5</td>\n",
              "      <td>https://www.amazon.com/product-reviews/B00QWO9...</td>\n",
              "      <td>Seem to work as well as name brand batteries a...</td>\n",
              "      <td>... as well as name brand batteries at a much ...</td>\n",
              "      <td>Bymark sexson</td>\n",
              "      <td>https://www.barcodable.com/upc/841710106442,ht...</td>\n",
              "    </tr>\n",
              "    <tr>\n",
              "      <th>4</th>\n",
              "      <td>AVpgNzjwLJeJML43Kpxn</td>\n",
              "      <td>2015-10-30T08:59:32Z</td>\n",
              "      <td>2019-04-25T09:08:16Z</td>\n",
              "      <td>AmazonBasics AAA Performance Alkaline Batterie...</td>\n",
              "      <td>B00QWO9P0O,B00LH3DMUO</td>\n",
              "      <td>Amazonbasics</td>\n",
              "      <td>AA,AAA,Health,Electronics,Health &amp; Household,C...</td>\n",
              "      <td>Health &amp; Beauty</td>\n",
              "      <td>https://images-na.ssl-images-amazon.com/images...</td>\n",
              "      <td>amazonbasics/hl002619,amazonbasicsaaaperforman...</td>\n",
              "      <td>AmazonBasics</td>\n",
              "      <td>HL-002619</td>\n",
              "      <td>2017-04-22T00:00:00.000Z</td>\n",
              "      <td>2017-08-28T00:00:00Z</td>\n",
              "      <td>NaN</td>\n",
              "      <td>NaN</td>\n",
              "      <td>NaN</td>\n",
              "      <td>NaN</td>\n",
              "      <td>5</td>\n",
              "      <td>https://www.amazon.com/product-reviews/B00QWO9...</td>\n",
              "      <td>These batteries are very long lasting the pric...</td>\n",
              "      <td>... batteries are very long lasting the price ...</td>\n",
              "      <td>Bylinda</td>\n",
              "      <td>https://www.barcodable.com/upc/841710106442,ht...</td>\n",
              "    </tr>\n",
              "  </tbody>\n",
              "</table>\n",
              "</div>"
            ],
            "text/plain": [
              "                     id  ...                                         sourceURLs\n",
              "0  AVpgNzjwLJeJML43Kpxn  ...  https://www.barcodable.com/upc/841710106442,ht...\n",
              "1  AVpgNzjwLJeJML43Kpxn  ...  https://www.barcodable.com/upc/841710106442,ht...\n",
              "2  AVpgNzjwLJeJML43Kpxn  ...  https://www.barcodable.com/upc/841710106442,ht...\n",
              "3  AVpgNzjwLJeJML43Kpxn  ...  https://www.barcodable.com/upc/841710106442,ht...\n",
              "4  AVpgNzjwLJeJML43Kpxn  ...  https://www.barcodable.com/upc/841710106442,ht...\n",
              "\n",
              "[5 rows x 24 columns]"
            ]
          },
          "metadata": {
            "tags": []
          },
          "execution_count": 5
        }
      ]
    },
    {
      "cell_type": "code",
      "metadata": {
        "colab": {
          "base_uri": "https://localhost:8080/"
        },
        "id": "gFd1KRZAmN2x",
        "outputId": "ed3b0949-6948-439e-acb6-6bf0fb6e033e"
      },
      "source": [
        "data_3.columns"
      ],
      "execution_count": null,
      "outputs": [
        {
          "output_type": "execute_result",
          "data": {
            "text/plain": [
              "Index(['id', 'dateAdded', 'dateUpdated', 'name', 'asins', 'brand',\n",
              "       'categories', 'primaryCategories', 'imageURLs', 'keys', 'manufacturer',\n",
              "       'manufacturerNumber', 'reviews.date', 'reviews.dateSeen',\n",
              "       'reviews.didPurchase', 'reviews.doRecommend', 'reviews.id',\n",
              "       'reviews.numHelpful', 'reviews.rating', 'reviews.sourceURLs',\n",
              "       'reviews.text', 'reviews.title', 'reviews.username', 'sourceURLs'],\n",
              "      dtype='object')"
            ]
          },
          "metadata": {
            "tags": []
          },
          "execution_count": 14
        }
      ]
    },
    {
      "cell_type": "code",
      "metadata": {
        "colab": {
          "base_uri": "https://localhost:8080/"
        },
        "id": "Y1nQGYPfq0Ra",
        "outputId": "51abb0ad-9b00-4170-8da5-38635dbfe652"
      },
      "source": [
        "data_3.info()"
      ],
      "execution_count": null,
      "outputs": [
        {
          "output_type": "stream",
          "text": [
            "<class 'pandas.core.frame.DataFrame'>\n",
            "RangeIndex: 28332 entries, 0 to 28331\n",
            "Data columns (total 24 columns):\n",
            " #   Column               Non-Null Count  Dtype  \n",
            "---  ------               --------------  -----  \n",
            " 0   id                   28332 non-null  object \n",
            " 1   dateAdded            28332 non-null  object \n",
            " 2   dateUpdated          28332 non-null  object \n",
            " 3   name                 28332 non-null  object \n",
            " 4   asins                28332 non-null  object \n",
            " 5   brand                28332 non-null  object \n",
            " 6   categories           28332 non-null  object \n",
            " 7   primaryCategories    28332 non-null  object \n",
            " 8   imageURLs            28332 non-null  object \n",
            " 9   keys                 28332 non-null  object \n",
            " 10  manufacturer         28332 non-null  object \n",
            " 11  manufacturerNumber   28332 non-null  object \n",
            " 12  reviews.date         28332 non-null  object \n",
            " 13  reviews.dateSeen     28332 non-null  object \n",
            " 14  reviews.didPurchase  9 non-null      object \n",
            " 15  reviews.doRecommend  16086 non-null  object \n",
            " 16  reviews.id           41 non-null     float64\n",
            " 17  reviews.numHelpful   16115 non-null  float64\n",
            " 18  reviews.rating       28332 non-null  int64  \n",
            " 19  reviews.sourceURLs   28332 non-null  object \n",
            " 20  reviews.text         28332 non-null  object \n",
            " 21  reviews.title        28332 non-null  object \n",
            " 22  reviews.username     28332 non-null  object \n",
            " 23  sourceURLs           28332 non-null  object \n",
            "dtypes: float64(2), int64(1), object(21)\n",
            "memory usage: 5.2+ MB\n"
          ],
          "name": "stdout"
        }
      ]
    },
    {
      "cell_type": "markdown",
      "metadata": {
        "id": "4aUp6fP0q6Oj"
      },
      "source": [
        "# **Data Cleaning**"
      ]
    },
    {
      "cell_type": "markdown",
      "metadata": {
        "id": "Jd27GYCLrFxT"
      },
      "source": [
        "## 1. Removing Unwanted Columns from the dataset"
      ]
    },
    {
      "cell_type": "code",
      "metadata": {
        "id": "beiXp1yKq2xI"
      },
      "source": [
        "def remove_cols(data):\n",
        "  data.drop(columns=['id','asins','keys',\n",
        "       'reviews.dateAdded', 'reviews.dateSeen',\n",
        "       'reviews.didPurchase','reviews.id',\n",
        "       'reviews.numHelpful','reviews.sourceURLs',\n",
        "       'reviews.title', 'reviews.userCity',\n",
        "       'reviews.userProvince', 'reviews.username'],inplace=True)"
      ],
      "execution_count": null,
      "outputs": []
    },
    {
      "cell_type": "code",
      "metadata": {
        "id": "M7JUW_Y_r8jE"
      },
      "source": [
        "remove_cols(data_1)"
      ],
      "execution_count": null,
      "outputs": []
    },
    {
      "cell_type": "code",
      "metadata": {
        "id": "DduXIjdJsZaD"
      },
      "source": [
        "data_2.drop(columns=['id', 'dateAdded', 'dateUpdated','asins', \n",
        "       'primaryCategories', 'imageURLs', 'keys',\n",
        "       'manufacturerNumber', 'reviews.dateAdded',\n",
        "       'reviews.dateSeen',  'reviews.id',\n",
        "       'reviews.numHelpful', 'reviews.sourceURLs',\n",
        "        'reviews.title', 'reviews.username', 'sourceURLs'],inplace=True)"
      ],
      "execution_count": null,
      "outputs": []
    },
    {
      "cell_type": "code",
      "metadata": {
        "colab": {
          "base_uri": "https://localhost:8080/",
          "height": 447
        },
        "id": "ro0w8NUDsh3o",
        "outputId": "f1153156-9a6e-4a78-fe61-d2e764213825"
      },
      "source": [
        "data_2.head()"
      ],
      "execution_count": null,
      "outputs": [
        {
          "output_type": "execute_result",
          "data": {
            "text/html": [
              "<div>\n",
              "<style scoped>\n",
              "    .dataframe tbody tr th:only-of-type {\n",
              "        vertical-align: middle;\n",
              "    }\n",
              "\n",
              "    .dataframe tbody tr th {\n",
              "        vertical-align: top;\n",
              "    }\n",
              "\n",
              "    .dataframe thead th {\n",
              "        text-align: right;\n",
              "    }\n",
              "</style>\n",
              "<table border=\"1\" class=\"dataframe\">\n",
              "  <thead>\n",
              "    <tr style=\"text-align: right;\">\n",
              "      <th></th>\n",
              "      <th>name</th>\n",
              "      <th>brand</th>\n",
              "      <th>categories</th>\n",
              "      <th>manufacturer</th>\n",
              "      <th>reviews.date</th>\n",
              "      <th>reviews.doRecommend</th>\n",
              "      <th>reviews.rating</th>\n",
              "      <th>reviews.text</th>\n",
              "    </tr>\n",
              "  </thead>\n",
              "  <tbody>\n",
              "    <tr>\n",
              "      <th>0</th>\n",
              "      <td>Amazon Kindle E-Reader 6\" Wifi (8th Generation...</td>\n",
              "      <td>Amazon</td>\n",
              "      <td>Computers,Electronics Features,Tablets,Electro...</td>\n",
              "      <td>Amazon</td>\n",
              "      <td>2017-09-03T00:00:00.000Z</td>\n",
              "      <td>False</td>\n",
              "      <td>3</td>\n",
              "      <td>I thought it would be as big as small paper bu...</td>\n",
              "    </tr>\n",
              "    <tr>\n",
              "      <th>1</th>\n",
              "      <td>Amazon Kindle E-Reader 6\" Wifi (8th Generation...</td>\n",
              "      <td>Amazon</td>\n",
              "      <td>Computers,Electronics Features,Tablets,Electro...</td>\n",
              "      <td>Amazon</td>\n",
              "      <td>2017-06-06T00:00:00.000Z</td>\n",
              "      <td>True</td>\n",
              "      <td>5</td>\n",
              "      <td>This kindle is light and easy to use especiall...</td>\n",
              "    </tr>\n",
              "    <tr>\n",
              "      <th>2</th>\n",
              "      <td>Amazon Kindle E-Reader 6\" Wifi (8th Generation...</td>\n",
              "      <td>Amazon</td>\n",
              "      <td>Computers,Electronics Features,Tablets,Electro...</td>\n",
              "      <td>Amazon</td>\n",
              "      <td>2018-04-20T00:00:00.000Z</td>\n",
              "      <td>True</td>\n",
              "      <td>4</td>\n",
              "      <td>Didnt know how much i'd use a kindle so went f...</td>\n",
              "    </tr>\n",
              "    <tr>\n",
              "      <th>3</th>\n",
              "      <td>Amazon Kindle E-Reader 6\" Wifi (8th Generation...</td>\n",
              "      <td>Amazon</td>\n",
              "      <td>Computers,Electronics Features,Tablets,Electro...</td>\n",
              "      <td>Amazon</td>\n",
              "      <td>2017-11-02T17:33:31.000Z</td>\n",
              "      <td>True</td>\n",
              "      <td>5</td>\n",
              "      <td>I am 100 happy with my purchase. I caught it o...</td>\n",
              "    </tr>\n",
              "    <tr>\n",
              "      <th>4</th>\n",
              "      <td>Amazon Kindle E-Reader 6\" Wifi (8th Generation...</td>\n",
              "      <td>Amazon</td>\n",
              "      <td>Computers,Electronics Features,Tablets,Electro...</td>\n",
              "      <td>Amazon</td>\n",
              "      <td>2018-04-24T00:00:00.000Z</td>\n",
              "      <td>True</td>\n",
              "      <td>5</td>\n",
              "      <td>Solid entry level Kindle. Great for kids. Gift...</td>\n",
              "    </tr>\n",
              "  </tbody>\n",
              "</table>\n",
              "</div>"
            ],
            "text/plain": [
              "                                                name  ...                                       reviews.text\n",
              "0  Amazon Kindle E-Reader 6\" Wifi (8th Generation...  ...  I thought it would be as big as small paper bu...\n",
              "1  Amazon Kindle E-Reader 6\" Wifi (8th Generation...  ...  This kindle is light and easy to use especiall...\n",
              "2  Amazon Kindle E-Reader 6\" Wifi (8th Generation...  ...  Didnt know how much i'd use a kindle so went f...\n",
              "3  Amazon Kindle E-Reader 6\" Wifi (8th Generation...  ...  I am 100 happy with my purchase. I caught it o...\n",
              "4  Amazon Kindle E-Reader 6\" Wifi (8th Generation...  ...  Solid entry level Kindle. Great for kids. Gift...\n",
              "\n",
              "[5 rows x 8 columns]"
            ]
          },
          "metadata": {
            "tags": []
          },
          "execution_count": 22
        }
      ]
    },
    {
      "cell_type": "code",
      "metadata": {
        "id": "elpF7EtStTmq"
      },
      "source": [
        "data_3.drop(columns=['id', 'dateAdded', 'dateUpdated','asins',\n",
        "       'primaryCategories', 'imageURLs', 'keys',\n",
        "       'manufacturerNumber', 'reviews.dateSeen',\n",
        "       'reviews.didPurchase',  'reviews.id',\n",
        "       'reviews.numHelpful',  'reviews.sourceURLs',\n",
        "        'reviews.title', 'reviews.username', 'sourceURLs'],inplace=True)"
      ],
      "execution_count": null,
      "outputs": []
    },
    {
      "cell_type": "code",
      "metadata": {
        "colab": {
          "base_uri": "https://localhost:8080/",
          "height": 531
        },
        "id": "yAurj_qRtZ7L",
        "outputId": "da203f92-1c4d-4207-8636-2f82b21688f2"
      },
      "source": [
        "data_3.head()"
      ],
      "execution_count": null,
      "outputs": [
        {
          "output_type": "execute_result",
          "data": {
            "text/html": [
              "<div>\n",
              "<style scoped>\n",
              "    .dataframe tbody tr th:only-of-type {\n",
              "        vertical-align: middle;\n",
              "    }\n",
              "\n",
              "    .dataframe tbody tr th {\n",
              "        vertical-align: top;\n",
              "    }\n",
              "\n",
              "    .dataframe thead th {\n",
              "        text-align: right;\n",
              "    }\n",
              "</style>\n",
              "<table border=\"1\" class=\"dataframe\">\n",
              "  <thead>\n",
              "    <tr style=\"text-align: right;\">\n",
              "      <th></th>\n",
              "      <th>name</th>\n",
              "      <th>brand</th>\n",
              "      <th>categories</th>\n",
              "      <th>manufacturer</th>\n",
              "      <th>reviews.date</th>\n",
              "      <th>reviews.doRecommend</th>\n",
              "      <th>reviews.rating</th>\n",
              "      <th>reviews.text</th>\n",
              "    </tr>\n",
              "  </thead>\n",
              "  <tbody>\n",
              "    <tr>\n",
              "      <th>0</th>\n",
              "      <td>AmazonBasics AAA Performance Alkaline Batterie...</td>\n",
              "      <td>Amazonbasics</td>\n",
              "      <td>AA,AAA,Health,Electronics,Health &amp; Household,C...</td>\n",
              "      <td>AmazonBasics</td>\n",
              "      <td>2017-03-02T00:00:00.000Z</td>\n",
              "      <td>NaN</td>\n",
              "      <td>3</td>\n",
              "      <td>I order 3 of them and one of the item is bad q...</td>\n",
              "    </tr>\n",
              "    <tr>\n",
              "      <th>1</th>\n",
              "      <td>AmazonBasics AAA Performance Alkaline Batterie...</td>\n",
              "      <td>Amazonbasics</td>\n",
              "      <td>AA,AAA,Health,Electronics,Health &amp; Household,C...</td>\n",
              "      <td>AmazonBasics</td>\n",
              "      <td>2016-08-31T00:00:00.000Z</td>\n",
              "      <td>NaN</td>\n",
              "      <td>4</td>\n",
              "      <td>Bulk is always the less expensive way to go fo...</td>\n",
              "    </tr>\n",
              "    <tr>\n",
              "      <th>2</th>\n",
              "      <td>AmazonBasics AAA Performance Alkaline Batterie...</td>\n",
              "      <td>Amazonbasics</td>\n",
              "      <td>AA,AAA,Health,Electronics,Health &amp; Household,C...</td>\n",
              "      <td>AmazonBasics</td>\n",
              "      <td>2016-12-06T00:00:00.000Z</td>\n",
              "      <td>NaN</td>\n",
              "      <td>5</td>\n",
              "      <td>Well they are not Duracell but for the price i...</td>\n",
              "    </tr>\n",
              "    <tr>\n",
              "      <th>3</th>\n",
              "      <td>AmazonBasics AAA Performance Alkaline Batterie...</td>\n",
              "      <td>Amazonbasics</td>\n",
              "      <td>AA,AAA,Health,Electronics,Health &amp; Household,C...</td>\n",
              "      <td>AmazonBasics</td>\n",
              "      <td>2016-03-28T00:00:00.000Z</td>\n",
              "      <td>NaN</td>\n",
              "      <td>5</td>\n",
              "      <td>Seem to work as well as name brand batteries a...</td>\n",
              "    </tr>\n",
              "    <tr>\n",
              "      <th>4</th>\n",
              "      <td>AmazonBasics AAA Performance Alkaline Batterie...</td>\n",
              "      <td>Amazonbasics</td>\n",
              "      <td>AA,AAA,Health,Electronics,Health &amp; Household,C...</td>\n",
              "      <td>AmazonBasics</td>\n",
              "      <td>2017-04-22T00:00:00.000Z</td>\n",
              "      <td>NaN</td>\n",
              "      <td>5</td>\n",
              "      <td>These batteries are very long lasting the pric...</td>\n",
              "    </tr>\n",
              "  </tbody>\n",
              "</table>\n",
              "</div>"
            ],
            "text/plain": [
              "                                                name  ...                                       reviews.text\n",
              "0  AmazonBasics AAA Performance Alkaline Batterie...  ...  I order 3 of them and one of the item is bad q...\n",
              "1  AmazonBasics AAA Performance Alkaline Batterie...  ...  Bulk is always the less expensive way to go fo...\n",
              "2  AmazonBasics AAA Performance Alkaline Batterie...  ...  Well they are not Duracell but for the price i...\n",
              "3  AmazonBasics AAA Performance Alkaline Batterie...  ...  Seem to work as well as name brand batteries a...\n",
              "4  AmazonBasics AAA Performance Alkaline Batterie...  ...  These batteries are very long lasting the pric...\n",
              "\n",
              "[5 rows x 8 columns]"
            ]
          },
          "metadata": {
            "tags": []
          },
          "execution_count": 25
        }
      ]
    },
    {
      "cell_type": "markdown",
      "metadata": {
        "id": "KwFUmjskuJmM"
      },
      "source": [
        "## 2.Handling Missing Values"
      ]
    },
    {
      "cell_type": "code",
      "metadata": {
        "colab": {
          "base_uri": "https://localhost:8080/"
        },
        "id": "zud3VfXQtz5R",
        "outputId": "92a35d6d-6ded-4a62-c1d8-ee7fc4ef0924"
      },
      "source": [
        "data_1.isnull().sum()"
      ],
      "execution_count": null,
      "outputs": [
        {
          "output_type": "execute_result",
          "data": {
            "text/plain": [
              "name                   6760\n",
              "brand                     0\n",
              "categories                0\n",
              "manufacturer              0\n",
              "reviews.date             39\n",
              "reviews.doRecommend     594\n",
              "reviews.rating           33\n",
              "reviews.text              1\n",
              "dtype: int64"
            ]
          },
          "metadata": {
            "tags": []
          },
          "execution_count": 29
        }
      ]
    },
    {
      "cell_type": "code",
      "metadata": {
        "colab": {
          "base_uri": "https://localhost:8080/"
        },
        "id": "gbh3PcAUuUNS",
        "outputId": "236daa71-4301-42ee-9b67-5072992526d8"
      },
      "source": [
        "data_2.isnull().sum()"
      ],
      "execution_count": null,
      "outputs": [
        {
          "output_type": "execute_result",
          "data": {
            "text/plain": [
              "name                   0\n",
              "brand                  0\n",
              "categories             0\n",
              "manufacturer           0\n",
              "reviews.date           0\n",
              "reviews.doRecommend    0\n",
              "reviews.rating         0\n",
              "reviews.text           0\n",
              "dtype: int64"
            ]
          },
          "metadata": {
            "tags": []
          },
          "execution_count": 30
        }
      ]
    },
    {
      "cell_type": "code",
      "metadata": {
        "colab": {
          "base_uri": "https://localhost:8080/"
        },
        "id": "I6K6YT-yu9VB",
        "outputId": "4a56b9ce-fa4c-401a-a1ad-20d3fc01e636"
      },
      "source": [
        "data_3.isnull().sum()"
      ],
      "execution_count": null,
      "outputs": [
        {
          "output_type": "execute_result",
          "data": {
            "text/plain": [
              "name                       0\n",
              "brand                      0\n",
              "categories                 0\n",
              "manufacturer               0\n",
              "reviews.date               0\n",
              "reviews.doRecommend    12246\n",
              "reviews.rating             0\n",
              "reviews.text               0\n",
              "dtype: int64"
            ]
          },
          "metadata": {
            "tags": []
          },
          "execution_count": 33
        }
      ]
    },
    {
      "cell_type": "markdown",
      "metadata": {
        "id": "j3KH6gvbvdBu"
      },
      "source": [
        "### Since reviews.doRecommend column contains more than 12000 null values in data_3. So remove that column from the data_3."
      ]
    },
    {
      "cell_type": "code",
      "metadata": {
        "id": "-sR2zbBMvFR4"
      },
      "source": [
        "data_3.drop(columns=['reviews.doRecommend'],inplace=True)"
      ],
      "execution_count": null,
      "outputs": []
    },
    {
      "cell_type": "markdown",
      "metadata": {
        "id": "WMGbMYYGwGpi"
      },
      "source": [
        "## Removing Missing Values from data_1."
      ]
    },
    {
      "cell_type": "code",
      "metadata": {
        "id": "Zv-TRP6owCsc"
      },
      "source": [
        "data_1.dropna(axis=0,inplace=True)\n"
      ],
      "execution_count": null,
      "outputs": []
    },
    {
      "cell_type": "markdown",
      "metadata": {
        "id": "I-WRBTINwslZ"
      },
      "source": [
        "#### After removing missing values :"
      ]
    },
    {
      "cell_type": "code",
      "metadata": {
        "colab": {
          "base_uri": "https://localhost:8080/"
        },
        "id": "L3EK3djlwxQC",
        "outputId": "4dafb68d-fdb1-4a98-85c3-305fb578cda3"
      },
      "source": [
        "data_1.isnull().sum()"
      ],
      "execution_count": null,
      "outputs": [
        {
          "output_type": "execute_result",
          "data": {
            "text/plain": [
              "name                   0\n",
              "brand                  0\n",
              "categories             0\n",
              "manufacturer           0\n",
              "reviews.date           0\n",
              "reviews.doRecommend    0\n",
              "reviews.rating         0\n",
              "reviews.text           0\n",
              "dtype: int64"
            ]
          },
          "metadata": {
            "tags": []
          },
          "execution_count": 36
        }
      ]
    },
    {
      "cell_type": "code",
      "metadata": {
        "colab": {
          "base_uri": "https://localhost:8080/"
        },
        "id": "NWMzpBtAwzwj",
        "outputId": "30b75edd-e3f0-4b4f-d92a-9080edc00be5"
      },
      "source": [
        "data_2.isnull().sum()"
      ],
      "execution_count": null,
      "outputs": [
        {
          "output_type": "execute_result",
          "data": {
            "text/plain": [
              "name                   0\n",
              "brand                  0\n",
              "categories             0\n",
              "manufacturer           0\n",
              "reviews.date           0\n",
              "reviews.doRecommend    0\n",
              "reviews.rating         0\n",
              "reviews.text           0\n",
              "dtype: int64"
            ]
          },
          "metadata": {
            "tags": []
          },
          "execution_count": 37
        }
      ]
    },
    {
      "cell_type": "code",
      "metadata": {
        "colab": {
          "base_uri": "https://localhost:8080/"
        },
        "id": "X2LFKMupw1I0",
        "outputId": "7a06007f-e33e-424a-9fa7-17de7259eb72"
      },
      "source": [
        "data_3.isnull().sum()"
      ],
      "execution_count": null,
      "outputs": [
        {
          "output_type": "execute_result",
          "data": {
            "text/plain": [
              "name              0\n",
              "brand             0\n",
              "categories        0\n",
              "manufacturer      0\n",
              "reviews.date      0\n",
              "reviews.rating    0\n",
              "reviews.text      0\n",
              "dtype: int64"
            ]
          },
          "metadata": {
            "tags": []
          },
          "execution_count": 38
        }
      ]
    },
    {
      "cell_type": "markdown",
      "metadata": {
        "id": "Ppj5e9_CxeUg"
      },
      "source": [
        "There is no missing values in the data."
      ]
    },
    {
      "cell_type": "markdown",
      "metadata": {
        "id": "TdvTa-gixwiU"
      },
      "source": [
        "## 3. Replacing the Column names for better analysis."
      ]
    },
    {
      "cell_type": "code",
      "metadata": {
        "id": "uZE8B9p5xjw4"
      },
      "source": [
        "new_col_list = ['Product Name','Brand','Categories','Manufacturer','Reviewed Date','Product Recommend or Not','Rating','Reviews']\n",
        "data_1.columns = new_col_list"
      ],
      "execution_count": null,
      "outputs": []
    },
    {
      "cell_type": "code",
      "metadata": {
        "id": "ZDrOhZPUysE9"
      },
      "source": [
        "data_2.columns = new_col_list"
      ],
      "execution_count": null,
      "outputs": []
    },
    {
      "cell_type": "code",
      "metadata": {
        "id": "ShzfZ-TVyy-7"
      },
      "source": [
        "#creating new col list without product recommend for data_3.\n",
        "new_col_list_2 = ['Product Name','Brand','Categories','Manufacturer','Reviewed Date','Rating','Reviews']\n",
        "data_3.columns = new_col_list_2"
      ],
      "execution_count": null,
      "outputs": []
    },
    {
      "cell_type": "code",
      "metadata": {
        "colab": {
          "base_uri": "https://localhost:8080/"
        },
        "id": "dQhN32YazOiA",
        "outputId": "f6629e18-8ee6-4e98-d5f6-799d59e1f525"
      },
      "source": [
        "data_1.columns"
      ],
      "execution_count": null,
      "outputs": [
        {
          "output_type": "execute_result",
          "data": {
            "text/plain": [
              "Index(['Product Name', 'Brand', 'Categories', 'Manufacturer', 'Reviewed Date',\n",
              "       'Product Recommend or Not', 'Rating', 'Reviews'],\n",
              "      dtype='object')"
            ]
          },
          "metadata": {
            "tags": []
          },
          "execution_count": 42
        }
      ]
    },
    {
      "cell_type": "code",
      "metadata": {
        "colab": {
          "base_uri": "https://localhost:8080/"
        },
        "id": "byDnLnBkzSAh",
        "outputId": "d6abaae3-1a88-47d4-8613-5168f669309f"
      },
      "source": [
        "data_2.columns"
      ],
      "execution_count": null,
      "outputs": [
        {
          "output_type": "execute_result",
          "data": {
            "text/plain": [
              "Index(['Product Name', 'Brand', 'Categories', 'Manufacturer', 'Reviewed Date',\n",
              "       'Product Recommend or Not', 'Rating', 'Reviews'],\n",
              "      dtype='object')"
            ]
          },
          "metadata": {
            "tags": []
          },
          "execution_count": 43
        }
      ]
    },
    {
      "cell_type": "code",
      "metadata": {
        "colab": {
          "base_uri": "https://localhost:8080/"
        },
        "id": "tzzeXbwkzUnQ",
        "outputId": "389b8d83-358f-4aec-ebef-202a2653adfc"
      },
      "source": [
        "data_3.columns"
      ],
      "execution_count": null,
      "outputs": [
        {
          "output_type": "execute_result",
          "data": {
            "text/plain": [
              "Index(['Product Name', 'Brand', 'Categories', 'Manufacturer', 'Reviewed Date',\n",
              "       'Rating', 'Reviews'],\n",
              "      dtype='object')"
            ]
          },
          "metadata": {
            "tags": []
          },
          "execution_count": 44
        }
      ]
    },
    {
      "cell_type": "markdown",
      "metadata": {
        "id": "tHQWwLOy298j"
      },
      "source": [
        "## 6. Save the cleaned data into new csv file for analysis."
      ]
    },
    {
      "cell_type": "code",
      "metadata": {
        "id": "IMNC0wFI2UFp"
      },
      "source": [
        "#saving the pre processed data into new csv file\n",
        "data_1.to_csv(\"/gdrive/MyDrive/Amazon Product Reviews Dashboard/data_1\")\n",
        "data_2.to_csv(\"/gdrive/MyDrive/Amazon Product Reviews Dashboard/data_2\")\n",
        "data_3.to_csv(\"/gdrive/MyDrive/Amazon Product Reviews Dashboard/data_3\")\n"
      ],
      "execution_count": null,
      "outputs": []
    },
    {
      "cell_type": "code",
      "metadata": {
        "id": "2abLms13bx-N"
      },
      "source": [
        ""
      ],
      "execution_count": null,
      "outputs": []
    }
  ]
}